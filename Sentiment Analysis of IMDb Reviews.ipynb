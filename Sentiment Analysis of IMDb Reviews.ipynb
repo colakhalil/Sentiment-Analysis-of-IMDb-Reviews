{
  "cells": [
    {
      "cell_type": "markdown",
      "metadata": {
        "id": "NgQ50lDrqyI2"
      },
      "source": [
        "## Import Libraries\n",
        "The libraries used in this homework are already preinstalled in Google Colab. If you are working locally, make sure to create a virtual environment and install the required libraries there."
      ]
    },
    {
      "cell_type": "code",
      "execution_count": 265,
      "metadata": {
        "id": "nxLzIUEa1GZd"
      },
      "outputs": [
        {
          "name": "stderr",
          "output_type": "stream",
          "text": [
            "[nltk_data] Downloading package punkt to\n",
            "[nltk_data]     /Users/halilibrahimumutcolak/nltk_data...\n",
            "[nltk_data]   Package punkt is already up-to-date!\n",
            "[nltk_data] Downloading package stopwords to\n",
            "[nltk_data]     /Users/halilibrahimumutcolak/nltk_data...\n",
            "[nltk_data]   Package stopwords is already up-to-date!\n"
          ]
        },
        {
          "data": {
            "text/plain": [
              "True"
            ]
          },
          "execution_count": 265,
          "metadata": {},
          "output_type": "execute_result"
        }
      ],
      "source": [
        "import pandas as pd\n",
        "import numpy as np\n",
        "import matplotlib.pyplot as plt\n",
        "from bs4 import BeautifulSoup\n",
        "import nltk\n",
        "\n",
        "nltk.download(\"punkt\")\n",
        "nltk.download(\"stopwords\")"
      ]
    },
    {
      "cell_type": "markdown",
      "metadata": {
        "id": "nrC-jQzS-Pli"
      },
      "source": [
        "## Load data"
      ]
    },
    {
      "cell_type": "code",
      "execution_count": 266,
      "metadata": {
        "id": "2ge7pX4yIW2j"
      },
      "outputs": [
        {
          "name": "stderr",
          "output_type": "stream",
          "text": [
            "Downloading...\n",
            "From: https://drive.google.com/uc?id=1qWmgoMgr56hpCEjJe0XQ-K46-yMpFhVS\n",
            "To: /Users/halilibrahimumutcolak/Desktop/cs412hw2/imdb_dataset.csv\n",
            "100%|██████████| 66.2M/66.2M [00:03<00:00, 16.7MB/s]\n"
          ]
        },
        {
          "data": {
            "text/plain": [
              "'imdb_dataset.csv'"
            ]
          },
          "execution_count": 266,
          "metadata": {},
          "output_type": "execute_result"
        }
      ],
      "source": [
        "# Downloading data\n",
        "import gdown\n",
        "data_url = \"https://drive.google.com/uc?id=1qWmgoMgr56hpCEjJe0XQ-K46-yMpFhVS\"\n",
        "save_path = \"imdb_dataset.csv\"\n",
        "gdown.download(data_url, save_path)"
      ]
    },
    {
      "cell_type": "code",
      "execution_count": 267,
      "metadata": {
        "id": "8EbbBMGUIrrr"
      },
      "outputs": [],
      "source": [
        "df = pd.read_csv(\"imdb_dataset.csv\")"
      ]
    },
    {
      "cell_type": "markdown",
      "metadata": {
        "id": "5LNWT1YU-Mx-"
      },
      "source": [
        "## **1. Preproces text data** (30 pts)\n",
        "In this section, you have to preprocess the text data in order to convert it to a numerical representation that can be passed to machine learning models."
      ]
    },
    {
      "cell_type": "markdown",
      "metadata": {
        "id": "gy5DxN7xCHPa"
      },
      "source": [
        "### 1.1 **Remove HTML**\n",
        "Since these reviews were scraped from the internet, some of them still have some HTML tags (like \\<a> or \\<br>). These tags do not have any semantic meaning. Therefore, we have to remove them to avoid having noise in our data. Otherwise, the model will assume that these are words that have meanings. Here is one example of HTML tags in our data:"
      ]
    },
    {
      "cell_type": "code",
      "execution_count": 268,
      "metadata": {
        "id": "3nEDD7NCC4bx"
      },
      "outputs": [
        {
          "data": {
            "text/plain": [
              "'A wonderful little production. <br /><br />The filming technique is very unassuming- very old-time-BBC fashion and gives a comforting, and sometimes discomforting, sense of realism to the entire piece. <br /><br />The actors are extremely well chosen- Michael Sheen not only \"has got all the polari\" but he has all the voices down pat too! You can truly see the seamless editing guided by the references to Williams\\' diary entries, not only is it well worth the watching but it is a terrificly written and performed piece. A masterful production about one of the great master\\'s of comedy and his life. <br /><br />The realism really comes home with the little things: the fantasy of the guard which, rather than use the traditional \\'dream\\' techniques remains solid then disappears. It plays on our knowledge and our senses, particularly with the scenes concerning Orton and Halliwell and the sets (particularly of their flat with Halliwell\\'s murals decorating every surface) are terribly well done.'"
            ]
          },
          "execution_count": 268,
          "metadata": {},
          "output_type": "execute_result"
        }
      ],
      "source": [
        "df.loc[1, 'review']"
      ]
    },
    {
      "cell_type": "code",
      "execution_count": 269,
      "metadata": {
        "id": "3TOLq2eyJNKy"
      },
      "outputs": [
        {
          "name": "stderr",
          "output_type": "stream",
          "text": [
            "/var/folders/gp/xj9546954wjfm7yyl8jflm5r0000gn/T/ipykernel_26333/818014833.py:4: MarkupResemblesLocatorWarning: The input looks more like a filename than markup. You may want to open this file and pass the filehandle into Beautiful Soup.\n",
            "  soup = BeautifulSoup(text, \"html.parser\")\n"
          ]
        },
        {
          "data": {
            "text/plain": [
              "'A wonderful little production. The filming technique is very unassuming- very old-time-BBC fashion and gives a comforting, and sometimes discomforting, sense of realism to the entire piece. The actors are extremely well chosen- Michael Sheen not only \"has got all the polari\" but he has all the voices down pat too! You can truly see the seamless editing guided by the references to Williams\\' diary entries, not only is it well worth the watching but it is a terrificly written and performed piece. A masterful production about one of the great master\\'s of comedy and his life. The realism really comes home with the little things: the fantasy of the guard which, rather than use the traditional \\'dream\\' techniques remains solid then disappears. It plays on our knowledge and our senses, particularly with the scenes concerning Orton and Halliwell and the sets (particularly of their flat with Halliwell\\'s murals decorating every surface) are terribly well done.'"
            ]
          },
          "execution_count": 269,
          "metadata": {},
          "output_type": "execute_result"
        }
      ],
      "source": [
        "# Remove HTML\n",
        "# Function to remove HTML tags from a given text\n",
        "def remove_html_tags(text):\n",
        "    soup = BeautifulSoup(text, \"html.parser\")\n",
        "    return soup.get_text()\n",
        "\n",
        "# Apply the remove_html_tags function to the 'review' column\n",
        "df['review'] = df['review'].apply(remove_html_tags)\n",
        "\n",
        "df.loc[1, 'review']"
      ]
    },
    {
      "cell_type": "markdown",
      "metadata": {
        "id": "cJHkc3ZvG3NA"
      },
      "source": [
        "### 1.2 **Converting text to lowercase**\n",
        "\n",
        "In text analysis, we usually convert text to lowercase to avoid having a very large vocabulary. For instance, if we do not convert the text to lowercase, the model will treat \"apple\", \"Apple\", and \"APPLE\" as completely different words. This way the number of words that the model has to know (which we call vocabulary) becomes very large."
      ]
    },
    {
      "cell_type": "code",
      "execution_count": 270,
      "metadata": {
        "id": "CSztuMchJL_Y"
      },
      "outputs": [
        {
          "data": {
            "text/plain": [
              "'a wonderful little production. the filming technique is very unassuming- very old-time-bbc fashion and gives a comforting, and sometimes discomforting, sense of realism to the entire piece. the actors are extremely well chosen- michael sheen not only \"has got all the polari\" but he has all the voices down pat too! you can truly see the seamless editing guided by the references to williams\\' diary entries, not only is it well worth the watching but it is a terrificly written and performed piece. a masterful production about one of the great master\\'s of comedy and his life. the realism really comes home with the little things: the fantasy of the guard which, rather than use the traditional \\'dream\\' techniques remains solid then disappears. it plays on our knowledge and our senses, particularly with the scenes concerning orton and halliwell and the sets (particularly of their flat with halliwell\\'s murals decorating every surface) are terribly well done.'"
            ]
          },
          "execution_count": 270,
          "metadata": {},
          "output_type": "execute_result"
        }
      ],
      "source": [
        "# Convert to lower case\n",
        "\n",
        "# Function to remove HTML tags from a given text\n",
        "def remove_html_tags(text):\n",
        "    soup = BeautifulSoup(text, \"html.parser\")\n",
        "    return soup.get_text()\n",
        "\n",
        "# Function to convert text to lowercase\n",
        "def convert_to_lowercase(text):\n",
        "    return text.lower()\n",
        "\n",
        "\n",
        "# Apply the convert_to_lowercase function to the 'review' column\n",
        "df['review'] = df['review'].apply(convert_to_lowercase)\n",
        "\n",
        "df.loc[1, 'review']\n"
      ]
    },
    {
      "cell_type": "markdown",
      "metadata": {
        "id": "Wijyla-wDDlh"
      },
      "source": [
        "### 1.3 **Remove punctuation and special characters**\n",
        "Since our goal in this task is sentiment analysis, punctuations and special characters (like parantheses, percentage signs, etc.) do not change the sentiment of a movie review. Therefore we remove them to reduce the vocabulary size. One may argue that the exclamation (!) mark may affect the intensity of a sentiment. You have the choice to choose which punctuation marks to remove and which ones to keep. You have to remove some of them though to get the points for this part :)"
      ]
    },
    {
      "cell_type": "code",
      "execution_count": 271,
      "metadata": {
        "id": "HgkQeouQJK5I"
      },
      "outputs": [],
      "source": [
        "import string\n",
        "\n",
        "\n",
        "# Remove punctuation and special characters\n",
        "def remove_punctuation(text):\n",
        "    # Define the custom set of punctuation marks to keep\n",
        "    custom_punctuation = ['!', '.', '?']  # Added question mark as an optional punctuation to retain\n",
        "\n",
        "    # Remove all punctuation except the custom set\n",
        "    translator = str.maketrans('', '', f'{string.punctuation.replace(\"\".join(custom_punctuation), \"\")}')\n",
        "    return text.translate(translator)\n",
        "\n",
        "df['review'] = df['review'].apply(remove_punctuation)"
      ]
    },
    {
      "cell_type": "markdown",
      "metadata": {
        "id": "iAmSnCegI4vG"
      },
      "source": [
        "### 1.4 **Tokenization**\n",
        "Now we want to convert each review into a sequence of words. This process is called tokenization. **Use `word_tokenize` from the `nltk.tokenize` module to tokenize each review**."
      ]
    },
    {
      "cell_type": "code",
      "execution_count": 272,
      "metadata": {
        "id": "xJ-359NZJIq4"
      },
      "outputs": [
        {
          "name": "stdout",
          "output_type": "stream",
          "text": [
            "Tokenized sentence: ['Hello', '!', 'this', 'is', 'a', 'test']\n"
          ]
        }
      ],
      "source": [
        "from nltk.tokenize import word_tokenize\n",
        "\n",
        "test = 'Hello! this is a test'\n",
        "print(f\"Tokenized sentence: {word_tokenize(test)}\")"
      ]
    },
    {
      "cell_type": "code",
      "execution_count": 273,
      "metadata": {
        "id": "YcUYM32DbuK5"
      },
      "outputs": [
        {
          "name": "stdout",
          "output_type": "stream",
          "text": [
            "                                              review\n",
            "0  [one, of, the, other, reviewers, has, mentione...\n",
            "1  [a, wonderful, little, production, the, filmin...\n",
            "2  [i, thought, this, was, a, wonderful, way, to,...\n",
            "3  [basically, theres, a, family, where, a, littl...\n",
            "4  [petter, matteis, love, in, the, time, of, mon...\n"
          ]
        }
      ],
      "source": [
        "# Tokenize the review texts\n",
        "def tokenize_text(text):\n",
        "    return word_tokenize(text)\n",
        "\n",
        "df['review'] = df['review'].apply(tokenize_text)\n",
        "\n",
        "print(df[['review']].head())\n"
      ]
    },
    {
      "cell_type": "markdown",
      "metadata": {
        "id": "Dogh5QLQJcSx"
      },
      "source": [
        "### 1.5 **Removing stop words**\n",
        "\n",
        "\n",
        "We also need to remove the stopwords (is, the, you, etc.) since they do not add to the meaning. Why? To reduce the vocabulary size 😃. **You can get a list of all stopwords from the nltk library**."
      ]
    },
    {
      "cell_type": "code",
      "execution_count": 274,
      "metadata": {
        "id": "TufKm5YsL8hz"
      },
      "outputs": [
        {
          "name": "stdout",
          "output_type": "stream",
          "text": [
            "                                              review\n",
            "0  [one, reviewers, mentioned, watching, 1, oz, e...\n",
            "1  [wonderful, little, production, filming, techn...\n",
            "2  [thought, wonderful, way, spend, time, hot, su...\n",
            "3  [basically, theres, family, little, boy, jake,...\n",
            "4  [petter, matteis, love, time, money, visually,...\n"
          ]
        }
      ],
      "source": [
        "# Remove stop words\n",
        "from nltk.corpus import stopwords\n",
        "\n",
        "def remove_stopwords(tokens):\n",
        "    stop_words = set(stopwords.words('english'))\n",
        "    return [word for word in tokens if word.lower() not in stop_words]\n",
        "\n",
        "df['review'] = df['review'].apply(remove_stopwords)\n",
        "\n",
        "print(df[['review']].head())\n"
      ]
    },
    {
      "cell_type": "markdown",
      "metadata": {
        "id": "rqvJ6QUVON1B"
      },
      "source": [
        "### 1.6 **Stemming**\n",
        "\n",
        "Apply stemming using one of the `SnowballStemmer` stemmers in the nltk library."
      ]
    },
    {
      "cell_type": "code",
      "execution_count": 275,
      "metadata": {
        "id": "rrbB6dtK-gZJ"
      },
      "outputs": [
        {
          "name": "stdout",
          "output_type": "stream",
          "text": [
            "0    [one, review, mention, watch, 1, oz, episod, y...\n",
            "1    [wonder, littl, product, film, techniqu, unass...\n",
            "2    [thought, wonder, way, spend, time, hot, summe...\n",
            "3    [basic, there, famili, littl, boy, jake, think...\n",
            "4    [petter, mattei, love, time, money, visual, st...\n",
            "Name: review, dtype: object\n"
          ]
        }
      ],
      "source": [
        "# Apply Stemming\n",
        "from nltk.stem import SnowballStemmer\n",
        "\n",
        "# Function to apply stemming using SnowballStemmer\n",
        "def apply_stemming(tokens):\n",
        "    stemmer = SnowballStemmer('english')\n",
        "    return [stemmer.stem(word) for word in tokens]\n",
        "\n",
        "# Apply the apply_stemming function to the 'filtered_review' column\n",
        "df['review'] = df['review'].apply(apply_stemming)\n",
        "\n",
        "# Display the DataFrame with the stemmed reviews\n",
        "print(df[\"review\"].head())"
      ]
    },
    {
      "cell_type": "markdown",
      "metadata": {
        "id": "_nnGZFTqdbna"
      },
      "source": [
        "### 1.7 **Joining review text**\n",
        "Now that we have removed the stopwords and applied stemming on each word, we need to convert each review from a list of word to a space-separated string. The reason we do this is that the functions that are used to extract numerical representations from text expect the input to be a single string not a list of words.\n",
        "\n",
        "**Convert each review from a list of words to a space-separated string.**"
      ]
    },
    {
      "cell_type": "code",
      "execution_count": 276,
      "metadata": {
        "id": "oPfZK9fFeOXx"
      },
      "outputs": [
        {
          "name": "stdout",
          "output_type": "stream",
          "text": [
            "0    one review mention watch 1 oz episod youll hoo...\n",
            "1    wonder littl product film techniqu unassum old...\n",
            "2    thought wonder way spend time hot summer weeke...\n",
            "3    basic there famili littl boy jake think there ...\n",
            "4    petter mattei love time money visual stun film...\n",
            "Name: review, dtype: object\n"
          ]
        }
      ],
      "source": [
        "# Your solution\n",
        "# Convert each review from a list of words to a space-separated string\n",
        "df['review'] = df['review'].apply(lambda x: ' '.join(x))\n",
        "\n",
        "# Display the DataFrame with the converted reviews\n",
        "print(df['review'].head())\n"
      ]
    },
    {
      "cell_type": "markdown",
      "metadata": {
        "id": "eOTAoMoFq706"
      },
      "source": [
        "## 2. **Buidling Simple NN Models** (70 Pts)\n",
        "In this section, you will build neural network models to predict the sentiment of each review. You will build three models, where each of the models uses a different numerical representation of the text."
      ]
    },
    {
      "cell_type": "code",
      "execution_count": 277,
      "metadata": {
        "id": "XlluZFZ7YmYF"
      },
      "outputs": [],
      "source": [
        "# Import all necessary libraries here\n",
        "from collections import Counter"
      ]
    },
    {
      "cell_type": "markdown",
      "metadata": {
        "id": "iada5kfkYtPr"
      },
      "source": [
        "### 2.1 **Data preparation**"
      ]
    },
    {
      "cell_type": "markdown",
      "metadata": {
        "id": "2Y4MmQQ3WRSM"
      },
      "source": [
        "#### 2.1.1 **Encoding labels**\n",
        "Encode the labels (\"positive\" and \"negative\") as 0 for \"negative\" and 1 for \"positive\"."
      ]
    },
    {
      "cell_type": "code",
      "execution_count": 278,
      "metadata": {
        "id": "ePwco1nbW7o8"
      },
      "outputs": [
        {
          "name": "stdout",
          "output_type": "stream",
          "text": [
            "                                              review  sentiment\n",
            "0  one review mention watch 1 oz episod youll hoo...          1\n",
            "1  wonder littl product film techniqu unassum old...          1\n",
            "2  thought wonder way spend time hot summer weeke...          1\n",
            "3  basic there famili littl boy jake think there ...          0\n",
            "4  petter mattei love time money visual stun film...          1\n"
          ]
        }
      ],
      "source": [
        "# Encode labels\n",
        "# Encode labels\n",
        "df['sentiment'] = df['sentiment'].map({'negative': 0, 'positive': 1})\n",
        "\n",
        "# Display the DataFrame with encoded labels\n",
        "print(df[['review', 'sentiment']].head())\n"
      ]
    },
    {
      "cell_type": "markdown",
      "metadata": {
        "id": "ZK92SdrYWyrs"
      },
      "source": [
        "#### 2.1.2 **Splitting data**\n",
        "Split your data into train, validation, and test sets. You should use 80% of your data for training and 20% for testing. You should also use 20% of your training data for validation. **Set random_state to 42 to ensure consistent results.**\n",
        "\n",
        "Hint: You can pass parameters in Keras to use some of your data for validation while training."
      ]
    },
    {
      "cell_type": "code",
      "execution_count": 279,
      "metadata": {
        "id": "jFskqoM2XV-I"
      },
      "outputs": [
        {
          "name": "stdout",
          "output_type": "stream",
          "text": [
            "Train data shape: (32000,)\n",
            "Validation data shape: (8000,)\n",
            "Test data shape: (10000,)\n"
          ]
        }
      ],
      "source": [
        "from sklearn.model_selection import train_test_split\n",
        "\n",
        "# Split the data into train and test sets\n",
        "train_data, test_data, train_labels, test_labels = train_test_split(\n",
        "    df['review'],  # Features (review text)\n",
        "    df['sentiment'],  # Labels (sentiment)\n",
        "    test_size=0.2,  # 20% for testing\n",
        "    random_state=42  # Set random_state for reproducibility\n",
        ")\n",
        "\n",
        "# Split the training data into train and validation sets\n",
        "train_data, val_data, train_labels, val_labels = train_test_split(\n",
        "    train_data,\n",
        "    train_labels,\n",
        "    test_size=0.2,  # 20% for validation\n",
        "    random_state=42\n",
        ")\n",
        "\n",
        "# Display the shapes of the resulting sets\n",
        "print(f\"Train data shape: {train_data.shape}\")\n",
        "print(f\"Validation data shape: {val_data.shape}\")\n",
        "print(f\"Test data shape: {test_data.shape}\")\n"
      ]
    },
    {
      "cell_type": "markdown",
      "metadata": {
        "id": "LUEouGNLZiat"
      },
      "source": [
        "#### **Exploring vocabulary**\n",
        "Create a dictionary that maps each word in your training data to the number of times it occurs in the training data. The dictionary should have the following format:\n",
        "\n",
        "```\n",
        "vocab_count = {\n",
        "  \"word1\": 1,\n",
        "  \"word2\": 120,\n",
        "  ...\n",
        "}\n",
        "```"
      ]
    },
    {
      "cell_type": "code",
      "execution_count": 280,
      "metadata": {
        "id": "xrBcdP3maD53"
      },
      "outputs": [
        {
          "name": "stdout",
          "output_type": "stream",
          "text": [
            "{'fault': 402, 'actor': 8403, 'put': 3975, 'great': 11682, 'perform': 6687}\n"
          ]
        }
      ],
      "source": [
        "\n",
        "\n",
        "# Tokenize the training data\n",
        "train_tokens = [word_tokenize(text) for text in train_data]\n",
        "\n",
        "# Flatten the list of tokens\n",
        "flat_tokens = [token for sublist in train_tokens for token in sublist]\n",
        "\n",
        "# Create a dictionary for vocabulary count in training data\n",
        "vocab_count = Counter(flat_tokens)\n",
        "\n",
        "# Display the first few entries of the vocabulary count dictionary\n",
        "print({k: vocab_count[k] for k in list(vocab_count)[:5]})\n"
      ]
    },
    {
      "cell_type": "code",
      "execution_count": 281,
      "metadata": {
        "id": "_20IICeefsux"
      },
      "outputs": [
        {
          "name": "stdout",
          "output_type": "stream",
          "text": [
            "Vocabulary size: 134185\n",
            "Top 15 frequent words: movi, film, one, like, time, good, make, see, charact, get, watch, even, stori, would, realli\n",
            "Least frequent 15 words: itbuy, girlssur, handheldcamera, soundwis, wisethan, eurohous, hardrockmi, halfsh, liethi, awaymild, heralthough, failbeyond, occurredestevez, itrecommend, ushad\n",
            "\n"
          ]
        },
        {
          "data": {
            "image/png": "[encoded data removed]",
            "text/plain": [
              "<Figure size 640x480 with 1 Axes>"
            ]
          },
          "metadata": {},
          "output_type": "display_data"
        }
      ],
      "source": [
        "# Run this cell to explore the vocabulary\n",
        "import seaborn as sns\n",
        "count_arr = np.array(list(vocab_count.values()))\n",
        "vocab = np.array(list(vocab_count.keys()))\n",
        "\n",
        "# Sorting by frequency\n",
        "sort_idx = np.argsort(count_arr)[::-1]\n",
        "vocab = vocab[sort_idx]\n",
        "count_arr = count_arr[sort_idx]\n",
        "\n",
        "print(f\"Vocabulary size: {len(vocab)}\")\n",
        "print(f\"Top 15 frequent words: {', '.join(vocab[:15])}\")\n",
        "print(f\"Least frequent 15 words: {', '.join(vocab[-15:])}\")\n",
        "print()\n",
        "\n",
        "ax = sns.histplot(count_arr, log_scale=True, bins=100)\n",
        "ax.set_yscale('log')\n",
        "ax.set_xlabel('Number of word occurrences')\n",
        "ax.set_title(\"Histogram of vocabulary frequencies in training data\")\n",
        "plt.show()"
      ]
    },
    {
      "cell_type": "markdown",
      "metadata": {
        "id": "7ArllJNd_RL8"
      },
      "source": [
        "### 2.2 **Bag of Words (BoW) model**\n",
        "Create a simple NN model that utilizes the Bag of Words representation."
      ]
    },
    {
      "cell_type": "markdown",
      "metadata": {
        "id": "vlAe5IAzY7i3"
      },
      "source": [
        "#### 2.2.1 **Generate Bag of Words (BoW) representation**\n",
        "\n",
        "You can use the `CountVectorizer` class from `sklearn` to do this. Since your data is already preprocessed, set the `preprocessor` argument of `CountVectorizer` to pass a function that does nothing (`lambda x: x`). This way, `CountVectorizer` will not do any preprocessing on your data.\n",
        "\n",
        "Choose a reasonable value for the `max_features` argument. This argument determines how many words will be included in your vocabulary. For example, if your total vocabulary count is 100,000 and you set `max_features = 2,000`, `CountVectorizer` will only consider the **most frequent** 2,000 words in your vocabulary. The rest of the vocabulary will be ignored.\n",
        "\n",
        "* [CountVectorizer documentation](https://scikit-learn.org/stable/modules/generated/sklearn.feature_extraction.text.CountVectorizer.html)"
      ]
    },
    {
      "cell_type": "code",
      "execution_count": 282,
      "metadata": {
        "id": "cvIioVluY4TA"
      },
      "outputs": [
        {
          "name": "stdout",
          "output_type": "stream",
          "text": [
            "Shape of train_bow: (32000, 5000)\n",
            "Shape of test_bow: (10000, 5000)\n"
          ]
        }
      ],
      "source": [
        "from sklearn.feature_extraction.text import CountVectorizer\n",
        "\n",
        "# Choose a value for max_features\n",
        "max_features = 5000  # Adjust as needed\n",
        "\n",
        "# Initialize the CountVectorizer\n",
        "vectorizer = CountVectorizer(max_features=max_features, preprocessor=lambda x: x)\n",
        "\n",
        "# Fit the vectorizer to your train data\n",
        "train_bow = vectorizer.fit_transform(train_data)\n",
        "\n",
        "# Transform the train and test data\n",
        "test_bow = vectorizer.transform(test_data)\n",
        "\n",
        "# Display the shape of the resulting BoW matrices\n",
        "print(f\"Shape of train_bow: {train_bow.shape}\")\n",
        "print(f\"Shape of test_bow: {test_bow.shape}\")\n"
      ]
    },
    {
      "cell_type": "code",
      "execution_count": 283,
      "metadata": {
        "id": "2vlTK6pl0IXx"
      },
      "outputs": [
        {
          "name": "stdout",
          "output_type": "stream",
          "text": [
            "(32000, 5000)\n"
          ]
        }
      ],
      "source": [
        "# The shape of the train data BoW representation should be\n",
        "# (Number of data points in training data x max_features)\n",
        "print(train_bow.shape)"
      ]
    },
    {
      "cell_type": "markdown",
      "metadata": {
        "id": "YsnVbn50ZTs-"
      },
      "source": [
        "#### 2.2.2 **Train a neural network on BoW data**\n",
        "Use a small neural network to predict the sentiment of reviews from the BoW representation of the reviews. Use the keras library for this task.\n",
        "\n",
        "**Notes**:\n",
        "* Your neural network should have **maximum two hidden layers**.\n",
        "* Train for **10 epochs or less**\n",
        "* Choose any method you find suitable to **avoid overfitting**"
      ]
    },
    {
      "cell_type": "code",
      "execution_count": 284,
      "metadata": {
        "id": "Ut5c1ivakTvc"
      },
      "outputs": [],
      "source": [
        "from keras.models import Sequential\n",
        "from keras.layers import Dense"
      ]
    },
    {
      "cell_type": "code",
      "execution_count": 285,
      "metadata": {
        "id": "X5H-Wsu60jXx"
      },
      "outputs": [
        {
          "name": "stdout",
          "output_type": "stream",
          "text": [
            "Model: \"sequential_32\"\n",
            "_________________________________________________________________\n",
            " Layer (type)                Output Shape              Param #   \n",
            "=================================================================\n",
            " dense_87 (Dense)            (None, 64)                320064    \n",
            "                                                                 \n",
            " dense_88 (Dense)            (None, 32)                2080      \n",
            "                                                                 \n",
            " dense_89 (Dense)            (None, 1)                 33        \n",
            "                                                                 \n",
            "=================================================================\n",
            "Total params: 322177 (1.23 MB)\n",
            "Trainable params: 322177 (1.23 MB)\n",
            "Non-trainable params: 0 (0.00 Byte)\n",
            "_________________________________________________________________\n"
          ]
        },
        {
          "name": "stdout",
          "output_type": "stream",
          "text": [
            "Epoch 1/10\n",
            "800/800 [==============================] - 1s 1ms/step - loss: 0.3498 - accuracy: 0.8560 - val_loss: 0.3014 - val_accuracy: 0.8786\n",
            "Epoch 2/10\n",
            "800/800 [==============================] - 1s 1ms/step - loss: 0.2081 - accuracy: 0.9176 - val_loss: 0.3163 - val_accuracy: 0.8702\n",
            "Epoch 3/10\n",
            "800/800 [==============================] - 1s 1ms/step - loss: 0.1099 - accuracy: 0.9605 - val_loss: 0.4260 - val_accuracy: 0.8666\n",
            "Epoch 4/10\n",
            "800/800 [==============================] - 1s 1ms/step - loss: 0.0361 - accuracy: 0.9892 - val_loss: 0.6102 - val_accuracy: 0.8642\n",
            "Epoch 5/10\n",
            "800/800 [==============================] - 1s 1ms/step - loss: 0.0113 - accuracy: 0.9971 - val_loss: 0.7700 - val_accuracy: 0.8667\n",
            "Epoch 6/10\n",
            "800/800 [==============================] - 1s 1ms/step - loss: 0.0042 - accuracy: 0.9990 - val_loss: 0.9367 - val_accuracy: 0.8627\n",
            "Epoch 7/10\n",
            "800/800 [==============================] - 1s 1ms/step - loss: 0.0109 - accuracy: 0.9966 - val_loss: 0.9957 - val_accuracy: 0.8633\n",
            "Epoch 8/10\n",
            "800/800 [==============================] - 1s 1ms/step - loss: 0.0173 - accuracy: 0.9948 - val_loss: 0.9866 - val_accuracy: 0.8583\n",
            "Epoch 9/10\n",
            "800/800 [==============================] - 1s 1ms/step - loss: 0.0075 - accuracy: 0.9977 - val_loss: 1.0211 - val_accuracy: 0.8569\n",
            "Epoch 10/10\n",
            "800/800 [==============================] - 1s 1ms/step - loss: 0.0019 - accuracy: 0.9996 - val_loss: 1.1638 - val_accuracy: 0.8619\n"
          ]
        }
      ],
      "source": [
        "from keras.models import Sequential\n",
        "from keras.layers import Dense\n",
        "\n",
        "# Build the model\n",
        "model = Sequential()\n",
        "model.add(Dense(64, activation='relu', input_dim=max_features))\n",
        "model.add(Dense(32, activation='relu'))\n",
        "model.add(Dense(1, activation='sigmoid'))\n",
        "\n",
        "# Compile the model\n",
        "model.compile(optimizer='adam', loss='binary_crossentropy', metrics=['accuracy'])\n",
        "\n",
        "# Show model summary\n",
        "model.summary()\n",
        "\n",
        "# Train the model\n",
        "# Set validation_split=0.20 to use 20% of the train data for validation\n",
        "history = model.fit(train_bow.toarray(), train_labels, epochs=10, batch_size=32, validation_split=0.20)\n"
      ]
    },
    {
      "cell_type": "markdown",
      "metadata": {
        "id": "2bQfHwju1vx_"
      },
      "source": [
        "#### 2.2.3 **Evaluate on test dataset**\n",
        "After choosing the suitable model hyperparameters and training a model in the previous step, evaluate your model on the test set. Choose the metrics you find suitable for evauluating this model.\n",
        "\n",
        "**Note**: Evaluation on the test dataset should only be done once. Updating your model iteratively until you get a good performance on the test dataset is not a good practice and will result in overfitting on the test dataset."
      ]
    },
    {
      "cell_type": "code",
      "execution_count": 286,
      "metadata": {
        "id": "L_6rzD-y1qXb"
      },
      "outputs": [
        {
          "name": "stdout",
          "output_type": "stream",
          "text": [
            "313/313 [==============================] - 0s 562us/step - loss: 1.1054 - accuracy: 0.8631\n",
            "Test Loss: 1.1054\n",
            "Test Accuracy: 0.8631\n"
          ]
        }
      ],
      "source": [
        "# Evaluate the model on the test set\n",
        "# Evaluate the model on the test set\n",
        "test_loss, test_accuracy = model.evaluate(test_bow.toarray(), test_labels)\n",
        "\n",
        "# Print the test loss and accuracy\n",
        "print(f\"Test Loss: {test_loss:.4f}\")\n",
        "print(f\"Test Accuracy: {test_accuracy:.4f}\")\n"
      ]
    },
    {
      "cell_type": "markdown",
      "metadata": {
        "id": "PFYph9dm_VOr"
      },
      "source": [
        "### 2.3 **TF-IDF**"
      ]
    },
    {
      "cell_type": "markdown",
      "metadata": {
        "id": "TUn_mGiMZLuq"
      },
      "source": [
        "Create a simple NN model that utilizes the TF-IDF representation."
      ]
    },
    {
      "cell_type": "markdown",
      "metadata": {
        "id": "_9pwr-uZ3Ik1"
      },
      "source": [
        "#### 2.3.1 **Generate TF-IDF representation**\n",
        "\n",
        "You can use the `TfidfVectorizer` class from `sklearn` to do this. Since your data is already preprocessed, set the `preprocessor` argument of `TfidfVectorizer` to pass a function that does nothing (`lambda x: x`). This way, `TfidfVectorizer` will not do any preprocessing on your data.\n",
        "\n",
        "Choose a reasonable value for the `max_features` argument.\n",
        "\n",
        "* [TfidfVectorizer documentation](https://scikit-learn.org/stable/modules/generated/sklearn.feature_extraction.text.TfidfVectorizer.html)"
      ]
    },
    {
      "cell_type": "code",
      "execution_count": 287,
      "metadata": {
        "id": "QEQa7Y4I_W_8"
      },
      "outputs": [],
      "source": [
        "from sklearn.feature_extraction.text import TfidfVectorizer\n",
        "\n",
        "# Choose a value for max_features\n",
        "max_features = 5000  # Adjust as needed\n",
        "\n",
        "# Initialize the TfidfVectorizer\n",
        "tfidf_vectorizer = TfidfVectorizer(max_features=max_features, preprocessor=lambda x: x)\n",
        "\n",
        "# Fit the vectorizer to your train data\n",
        "train_tfidf = tfidf_vectorizer.fit_transform(train_data)\n",
        "\n",
        "# Transform the train and test data\n",
        "test_tfidf = tfidf_vectorizer.transform(test_data)\n"
      ]
    },
    {
      "cell_type": "markdown",
      "metadata": {
        "id": "8TU6aX5N40Mx"
      },
      "source": [
        "#### 2.3.2 **Train a neural network on TF-IDF data**\n",
        "Use a small neural network to predict the sentiment of reviews from the TF-IDF representation of the reviews. Use the keras library for this task. **You can use the same neural network structure form the BoW model.**\n",
        "\n",
        "**Notes**:\n",
        "* Your neural network should have **maximum two hidden layers**.\n",
        "* Train for **10 epochs or less**\n",
        "* Choose any method you find suitable to **avoid overfitting**"
      ]
    },
    {
      "cell_type": "code",
      "execution_count": 288,
      "metadata": {
        "id": "WfVf7osX49KU"
      },
      "outputs": [
        {
          "name": "stdout",
          "output_type": "stream",
          "text": [
            "train_tfidf shape: (32000, 5000)\n",
            "train_labels shape: (32000,)\n",
            "Model: \"sequential_33\"\n",
            "_________________________________________________________________\n",
            " Layer (type)                Output Shape              Param #   \n",
            "=================================================================\n",
            " dense_90 (Dense)            (None, 64)                320064    \n",
            "                                                                 \n",
            " dense_91 (Dense)            (None, 32)                2080      \n",
            "                                                                 \n",
            " dense_92 (Dense)            (None, 1)                 33        \n",
            "                                                                 \n",
            "=================================================================\n",
            "Total params: 322177 (1.23 MB)\n",
            "Trainable params: 322177 (1.23 MB)\n",
            "Non-trainable params: 0 (0.00 Byte)\n",
            "_________________________________________________________________\n"
          ]
        },
        {
          "name": "stdout",
          "output_type": "stream",
          "text": [
            "Epoch 1/10\n",
            "800/800 [==============================] - 1s 1ms/step - loss: 0.3376 - accuracy: 0.8628 - val_loss: 0.2875 - val_accuracy: 0.8800\n",
            "Epoch 2/10\n",
            "800/800 [==============================] - 1s 1ms/step - loss: 0.2281 - accuracy: 0.9102 - val_loss: 0.3054 - val_accuracy: 0.8758\n",
            "Epoch 3/10\n",
            "800/800 [==============================] - 1s 1ms/step - loss: 0.1930 - accuracy: 0.9258 - val_loss: 0.3223 - val_accuracy: 0.8706\n",
            "Epoch 4/10\n",
            "800/800 [==============================] - 1s 1ms/step - loss: 0.1445 - accuracy: 0.9467 - val_loss: 0.3620 - val_accuracy: 0.8581\n",
            "Epoch 5/10\n",
            "800/800 [==============================] - 1s 1ms/step - loss: 0.0813 - accuracy: 0.9741 - val_loss: 0.4619 - val_accuracy: 0.8595\n",
            "Epoch 6/10\n",
            "800/800 [==============================] - 1s 1ms/step - loss: 0.0339 - accuracy: 0.9894 - val_loss: 0.5606 - val_accuracy: 0.8572\n",
            "Epoch 7/10\n",
            "800/800 [==============================] - 1s 1ms/step - loss: 0.0126 - accuracy: 0.9956 - val_loss: 0.7385 - val_accuracy: 0.8561\n",
            "Epoch 8/10\n",
            "800/800 [==============================] - 1s 1ms/step - loss: 0.0050 - accuracy: 0.9984 - val_loss: 0.8827 - val_accuracy: 0.8545\n",
            "Epoch 9/10\n",
            "800/800 [==============================] - 1s 1ms/step - loss: 0.0017 - accuracy: 1.0000 - val_loss: 1.0027 - val_accuracy: 0.8536\n",
            "Epoch 10/10\n",
            "800/800 [==============================] - 1s 1ms/step - loss: 4.7628e-04 - accuracy: 1.0000 - val_loss: 1.1347 - val_accuracy: 0.8558\n"
          ]
        }
      ],
      "source": [
        "from keras.models import Sequential\n",
        "from keras.layers import Dense\n",
        "\n",
        "# Assuming 'train_tfidf' is your input TF-IDF data and 'train_labels' are your labels\n",
        "print(\"train_tfidf shape:\", train_tfidf.shape)\n",
        "print(\"train_labels shape:\", train_labels.shape)\n",
        "input_shape = train_tfidf.shape[1]\n",
        "\n",
        "# Build the Model\n",
        "model_tfidf = Sequential()\n",
        "model_tfidf.add(Dense(64, activation='relu', input_shape=(input_shape,)))  # First hidden layer\n",
        "model_tfidf.add(Dense(32, activation='relu'))  # Second hidden layer\n",
        "model_tfidf.add(Dense(1, activation='sigmoid'))  # Output layer for binary classification\n",
        "\n",
        "# Compile the Model\n",
        "model_tfidf.compile(optimizer='adam', loss='binary_crossentropy', metrics=['accuracy'])\n",
        "\n",
        "# Show Model Summary\n",
        "model_tfidf.summary()\n",
        "\n",
        "# Train the Model\n",
        "# Assuming train_labels has the correct shape (32000,)\n",
        "history_tfidf = model_tfidf.fit(train_tfidf.toarray(), train_labels, epochs=10, validation_split=0.20)\n",
        "\n"
      ]
    },
    {
      "cell_type": "markdown",
      "metadata": {
        "id": "7hPry9cx5FFb"
      },
      "source": [
        "#### 2.2.3 **Evaluate on test dataset**\n",
        "After choosing the suitable model hyperparameters and training a model in the previous step, evaluate your model on the test set. Choose the metrics you find suitable for evauluating this model."
      ]
    },
    {
      "cell_type": "code",
      "execution_count": 289,
      "metadata": {
        "id": "C3W9Dh7xIip3"
      },
      "outputs": [
        {
          "name": "stdout",
          "output_type": "stream",
          "text": [
            "313/313 [==============================] - 0s 496us/step - loss: 1.0624 - accuracy: 0.8627\n",
            "Test Loss: 1.0624\n",
            "Test Accuracy: 0.8627\n"
          ]
        }
      ],
      "source": [
        "# Assuming 'test_tfidf' is your input TF-IDF data for the test set and 'test_labels' are the corresponding labels\n",
        "evaluation_results = model_tfidf.evaluate(test_tfidf.toarray(), test_labels)\n",
        "\n",
        "# Extract the loss and accuracy from the results\n",
        "test_loss, test_accuracy = evaluation_results\n",
        "\n",
        "# Print the evaluation results\n",
        "print(f'Test Loss: {test_loss:.4f}')\n",
        "print(f'Test Accuracy: {test_accuracy:.4f}')\n"
      ]
    },
    {
      "cell_type": "markdown",
      "metadata": {
        "id": "uZj46dBC_XnP"
      },
      "source": [
        "### 2.4 **Word2Vec**\n",
        "In this section, you will use Word2Vec representations to train a simple neural network to predict the sentiments of reviews."
      ]
    },
    {
      "cell_type": "markdown",
      "metadata": {
        "id": "WX6AhwZB5ltk"
      },
      "source": [
        "#### 2.4.1 **Preliminary About Word2Vec**"
      ]
    },
    {
      "cell_type": "code",
      "execution_count": 290,
      "metadata": {
        "id": "zxil2TcVCJEm"
      },
      "outputs": [],
      "source": [
        "import gensim.downloader\n",
        "from gensim.models import Word2Vec"
      ]
    },
    {
      "cell_type": "markdown",
      "metadata": {
        "id": "uxehiNoc6EPr"
      },
      "source": [
        "The following cell will load a pretrained Word2Vec model. This is a model trained on a large corpus of data to produce meaningful representations of words as vectors."
      ]
    },
    {
      "cell_type": "code",
      "execution_count": 291,
      "metadata": {
        "colab": {
          "base_uri": "https://localhost:8080/"
        },
        "id": "Vsjavca9_auI",
        "outputId": "5ff19d09-59e8-4021-b7b8-b4aa7dcebdc6"
      },
      "outputs": [],
      "source": [
        "# Loading pretrained Word2Vec model (Word embeddings)\n",
        "model_name = \"glove-wiki-gigaword-100\"\n",
        "word_to_vec = gensim.downloader.load(model_name)"
      ]
    },
    {
      "cell_type": "code",
      "execution_count": 292,
      "metadata": {
        "id": "fNxPVPUz7G7E"
      },
      "outputs": [
        {
          "data": {
            "text/plain": [
              "array([ 0.30817  ,  0.30938  ,  0.52803  , -0.92543  , -0.73671  ,\n",
              "        0.63475  ,  0.44197  ,  0.10262  , -0.09142  , -0.56607  ,\n",
              "       -0.5327   ,  0.2013   ,  0.7704   , -0.13983  ,  0.13727  ,\n",
              "        1.1128   ,  0.89301  , -0.17869  , -0.0019722,  0.57289  ,\n",
              "        0.59479  ,  0.50428  , -0.28991  , -1.3491   ,  0.42756  ,\n",
              "        1.2748   , -1.1613   , -0.41084  ,  0.042804 ,  0.54866  ,\n",
              "        0.18897  ,  0.3759   ,  0.58035  ,  0.66975  ,  0.81156  ,\n",
              "        0.93864  , -0.51005  , -0.070079 ,  0.82819  , -0.35346  ,\n",
              "        0.21086  , -0.24412  , -0.16554  , -0.78358  , -0.48482  ,\n",
              "        0.38968  , -0.86356  , -0.016391 ,  0.31984  , -0.49246  ,\n",
              "       -0.069363 ,  0.018869 , -0.098286 ,  1.3126   , -0.12116  ,\n",
              "       -1.2399   , -0.091429 ,  0.35294  ,  0.64645  ,  0.089642 ,\n",
              "        0.70294  ,  1.1244   ,  0.38639  ,  0.52084  ,  0.98787  ,\n",
              "        0.79952  , -0.34625  ,  0.14095  ,  0.80167  ,  0.20987  ,\n",
              "       -0.86007  , -0.15308  ,  0.074523 ,  0.40816  ,  0.019208 ,\n",
              "        0.51587  , -0.34428  , -0.24525  , -0.77984  ,  0.27425  ,\n",
              "        0.22418  ,  0.20164  ,  0.017431 , -0.014697 , -1.0235   ,\n",
              "       -0.39695  , -0.0056188,  0.30569  ,  0.31748  ,  0.021404 ,\n",
              "        0.11837  , -0.11319  ,  0.42456  ,  0.53405  , -0.16717  ,\n",
              "       -0.27185  , -0.6255   ,  0.12883  ,  0.62529  , -0.52086  ],\n",
              "      dtype=float32)"
            ]
          },
          "execution_count": 292,
          "metadata": {},
          "output_type": "execute_result"
        }
      ],
      "source": [
        "# Getting the representation of a word\n",
        "dog = word_to_vec[\"dog\"]\n",
        "dog"
      ]
    },
    {
      "cell_type": "markdown",
      "metadata": {
        "id": "me2Q_Ave6U1F"
      },
      "source": [
        "These representations are meaningful in a sense that words that have similar meanings are closer to each other. In general, when dealing with vector representations, we use **cosine similarity** to see how similar two vectors are. it returns a value between -1 and +1, the higher the value the more similar two vectors are.\n",
        "\n",
        "Notice in the example below that **car** is more similar to **vehicle** than **cat**."
      ]
    },
    {
      "cell_type": "code",
      "execution_count": 293,
      "metadata": {
        "id": "lNkRtwBr6xjR"
      },
      "outputs": [
        {
          "name": "stdout",
          "output_type": "stream",
          "text": [
            "Similarity between car and cat: [[0.31097826]]\n",
            "Similarity between car and vehicle: [[0.86308384]]\n"
          ]
        }
      ],
      "source": [
        "from  sklearn.metrics.pairwise import cosine_similarity\n",
        "car = word_to_vec[\"car\"].reshape(1, -1) # Reshaping because cosine_similarity function requires a 2D array\n",
        "cat = word_to_vec[\"cat\"].reshape(1, -1)\n",
        "vehicle = word_to_vec[\"vehicle\"].reshape(1, -1)\n",
        "\n",
        "print(f\"Similarity between car and cat: {cosine_similarity(car, cat)}\")\n",
        "print(f\"Similarity between car and vehicle: {cosine_similarity(car, vehicle)}\")"
      ]
    },
    {
      "cell_type": "markdown",
      "metadata": {
        "id": "LLS-06oTBMY-"
      },
      "source": [
        "#### 2.4.2 **Use pretrained Word2Vec model**\n",
        "First, you will try to use the pretrained Word2Vec model to generate representations for each review and use the representation to train a neural network.\n",
        "\n",
        "Remember that we are trying to classify movie reviews, which have can have any number of words. Word2Vec returns a vector representation for each word. Therefore, you have to find a way to create a **fixed-sized representation** for the whole review. Fixed-size means that the vector representation of each review should have the same size regardless of the length of the review."
      ]
    },
    {
      "cell_type": "code",
      "execution_count": 294,
      "metadata": {
        "id": "7RO53y0h4F8b"
      },
      "outputs": [],
      "source": [
        "import numpy as np\n",
        "\n",
        "def vectorize(review, word_to_vec):\n",
        "    # Split the review into individual words\n",
        "    words = review.split()\n",
        "\n",
        "    # Initialize an array to store word vectors\n",
        "    word_vectors = []\n",
        "\n",
        "    # Iterate over words and add their vectors to the array\n",
        "    for word in words:\n",
        "        if word in word_to_vec:\n",
        "            word_vectors.append(word_to_vec[word])\n",
        "\n",
        "    # Check if there are any valid word vectors\n",
        "    if word_vectors:\n",
        "        # Average the word vectors to create a fixed-sized representation\n",
        "        review_vector = np.mean(word_vectors, axis=0)\n",
        "    else:\n",
        "        # If no valid word vectors, return a zero vector\n",
        "        review_vector = np.zeros_like(word_to_vec[\"word\"])  # Assuming \"word\" is in the vocabulary\n",
        "\n",
        "    return review_vector\n",
        "\n",
        "# Apply the vectorize function to convert train and test reviews to vector representations\n",
        "train_vectors = np.array([vectorize(review, word_to_vec) for review in train_data])\n",
        "test_vectors = np.array([vectorize(review, word_to_vec) for review in test_data])\n"
      ]
    },
    {
      "cell_type": "markdown",
      "metadata": {
        "id": "J6nG9NJ8HzgW"
      },
      "source": [
        "Train a neural network:"
      ]
    },
    {
      "cell_type": "code",
      "execution_count": 295,
      "metadata": {
        "id": "fbLkFZXlIYYu"
      },
      "outputs": [
        {
          "name": "stdout",
          "output_type": "stream",
          "text": [
            "train_vectors shape: (32000, 100)\n",
            "train_labels shape: (32000,)\n",
            "Model: \"sequential_34\"\n",
            "_________________________________________________________________\n",
            " Layer (type)                Output Shape              Param #   \n",
            "=================================================================\n",
            " dense_93 (Dense)            (None, 64)                6464      \n",
            "                                                                 \n",
            " dense_94 (Dense)            (None, 32)                2080      \n",
            "                                                                 \n",
            " dense_95 (Dense)            (None, 1)                 33        \n",
            "                                                                 \n",
            "=================================================================\n",
            "Total params: 8577 (33.50 KB)\n",
            "Trainable params: 8577 (33.50 KB)\n",
            "Non-trainable params: 0 (0.00 Byte)\n",
            "_________________________________________________________________\n"
          ]
        },
        {
          "name": "stdout",
          "output_type": "stream",
          "text": [
            "Epoch 1/10\n",
            "800/800 [==============================] - 1s 564us/step - loss: 0.5485 - accuracy: 0.7252 - val_loss: 0.5069 - val_accuracy: 0.7564\n",
            "Epoch 2/10\n",
            "800/800 [==============================] - 0s 495us/step - loss: 0.5069 - accuracy: 0.7550 - val_loss: 0.5077 - val_accuracy: 0.7498\n",
            "Epoch 3/10\n",
            "800/800 [==============================] - 0s 498us/step - loss: 0.5019 - accuracy: 0.7556 - val_loss: 0.4993 - val_accuracy: 0.7564\n",
            "Epoch 4/10\n",
            "800/800 [==============================] - 0s 495us/step - loss: 0.4946 - accuracy: 0.7599 - val_loss: 0.4934 - val_accuracy: 0.7658\n",
            "Epoch 5/10\n",
            "800/800 [==============================] - 0s 498us/step - loss: 0.4904 - accuracy: 0.7653 - val_loss: 0.4898 - val_accuracy: 0.7659\n",
            "Epoch 6/10\n",
            "800/800 [==============================] - 0s 494us/step - loss: 0.4859 - accuracy: 0.7670 - val_loss: 0.4890 - val_accuracy: 0.7631\n",
            "Epoch 7/10\n",
            "800/800 [==============================] - 0s 498us/step - loss: 0.4829 - accuracy: 0.7701 - val_loss: 0.4896 - val_accuracy: 0.7644\n",
            "Epoch 8/10\n",
            "800/800 [==============================] - 0s 502us/step - loss: 0.4796 - accuracy: 0.7705 - val_loss: 0.4937 - val_accuracy: 0.7619\n",
            "Epoch 9/10\n",
            "800/800 [==============================] - 1s 659us/step - loss: 0.4770 - accuracy: 0.7721 - val_loss: 0.4889 - val_accuracy: 0.7684\n",
            "Epoch 10/10\n",
            "800/800 [==============================] - 0s 522us/step - loss: 0.4726 - accuracy: 0.7725 - val_loss: 0.4856 - val_accuracy: 0.7664\n"
          ]
        }
      ],
      "source": [
        "from keras.models import Sequential\n",
        "from keras.layers import Dense\n",
        "\n",
        "# Assuming 'train_vectors' is your input Word2Vec data and 'train_labels' are your labels\n",
        "print(\"train_vectors shape:\", train_vectors.shape)\n",
        "print(\"train_labels shape:\", train_labels.shape)\n",
        "input_shape = train_vectors.shape[1]\n",
        "\n",
        "# Build the Model\n",
        "model_word2vec = Sequential()\n",
        "model_word2vec.add(Dense(64, activation='relu', input_shape=(input_shape,)))  # First hidden layer\n",
        "model_word2vec.add(Dense(32, activation='relu'))  # Second hidden layer\n",
        "model_word2vec.add(Dense(1, activation='sigmoid'))  # Output layer for binary classification\n",
        "\n",
        "# Compile the Model\n",
        "model_word2vec.compile(optimizer='adam', loss='binary_crossentropy', metrics=['accuracy'])\n",
        "\n",
        "# Show Model Summary\n",
        "model_word2vec.summary()\n",
        "\n",
        "# Train the Model\n",
        "history_word2vec = model_word2vec.fit(train_vectors, train_labels, epochs=10, validation_split=0.20)\n"
      ]
    },
    {
      "cell_type": "markdown",
      "metadata": {
        "id": "Kj8W0JH0IZyM"
      },
      "source": [
        "Evaluate the model on the test dataset:"
      ]
    },
    {
      "cell_type": "code",
      "execution_count": 296,
      "metadata": {
        "id": "Pa0a8PcdIdnK"
      },
      "outputs": [
        {
          "name": "stdout",
          "output_type": "stream",
          "text": [
            "313/313 [==============================] - 0s 346us/step - loss: 0.4836 - accuracy: 0.7676\n",
            "Test Loss: 0.4836\n",
            "Test Accuracy: 0.7676\n"
          ]
        }
      ],
      "source": [
        "# Evaluate the Model on the test set\n",
        "test_loss, test_accuracy = model_word2vec.evaluate(test_vectors, test_labels)\n",
        "\n",
        "# Print the test loss and accuracy\n",
        "print(f\"Test Loss: {test_loss:.4f}\")\n",
        "print(f\"Test Accuracy: {test_accuracy:.4f}\")\n"
      ]
    },
    {
      "cell_type": "markdown",
      "metadata": {
        "id": "IIdPN7jwIuB_"
      },
      "source": [
        "#### 2.4.3 **Train your own Word2Vec model**\n",
        "In cases where we have enough data, training a new Word2Vec model may provide better results than using a pretrained one. Here, you will train your own Word2Vec model using the training data and then use it to create vector representations for the reviews.\n",
        "\n",
        "You can change the hyperparameters to train your Word2Vec model:\n",
        "* **vector_size**: The length of the vector that will be used to represent words.\n",
        "* **window**: The window sized used in the Word2Vec training\n",
        "* **min_count**: Minimum number of occurunces for a word to be included in the model.\n"
      ]
    },
    {
      "cell_type": "code",
      "execution_count": 297,
      "metadata": {
        "id": "HbyDteDyI6wM"
      },
      "outputs": [],
      "source": [
        "# Converting sentences to list of words\n",
        "sentences = [sentence.split() for sentence in train_data]\n",
        "\n",
        "# Training model\n",
        "vector_size = 500\n",
        "window = 5\n",
        "min_count = 5\n",
        "\n",
        "w2v_model = Word2Vec(\n",
        "    sentences,\n",
        "    vector_size=vector_size,\n",
        "    window=window,\n",
        "    min_count=min_count,\n",
        "    workers=4)"
      ]
    },
    {
      "cell_type": "markdown",
      "metadata": {
        "id": "kRtjznn9Jd_C"
      },
      "source": [
        "Apply the same function you created above to create vector representations for the reviews from your trained Word2Vec model:"
      ]
    },
    {
      "cell_type": "code",
      "execution_count": 298,
      "metadata": {
        "id": "WZXc1G6HJ1lz"
      },
      "outputs": [],
      "source": [
        "def vectorize(review, model):\n",
        "    # Get word vectors for each word in the review\n",
        "    word_vectors = [model.wv[word] for word in review.split() if word in model.wv.key_to_index]\n",
        "\n",
        "    # If no word vectors found, return a zero vector\n",
        "    if not word_vectors:\n",
        "        return np.zeros(model.vector_size)\n",
        "\n",
        "    # Average the word vectors to get a fixed-sized vector for the review\n",
        "    review_vector = np.mean(word_vectors, axis=0)\n",
        "    return review_vector\n",
        "\n",
        "# Applying the function to convert train and test reviews to vector representations\n",
        "train_vectors = np.array([vectorize(review, w2v_model) for review in train_data])\n",
        "test_vectors = np.array([vectorize(review, w2v_model) for review in test_data])\n"
      ]
    },
    {
      "cell_type": "markdown",
      "metadata": {
        "id": "B4bnRmZKXO7q"
      },
      "source": [
        "Train a neural network:"
      ]
    },
    {
      "cell_type": "code",
      "execution_count": 299,
      "metadata": {
        "id": "nHxZvwcQXaXr"
      },
      "outputs": [
        {
          "name": "stdout",
          "output_type": "stream",
          "text": [
            "Model: \"sequential_35\"\n",
            "_________________________________________________________________\n",
            " Layer (type)                Output Shape              Param #   \n",
            "=================================================================\n",
            " dense_96 (Dense)            (None, 64)                32064     \n",
            "                                                                 \n"
          ]
        },
        {
          "name": "stdout",
          "output_type": "stream",
          "text": [
            " dense_97 (Dense)            (None, 32)                2080      \n",
            "                                                                 \n",
            " dense_98 (Dense)            (None, 1)                 33        \n",
            "                                                                 \n",
            "=================================================================\n",
            "Total params: 34177 (133.50 KB)\n",
            "Trainable params: 34177 (133.50 KB)\n",
            "Non-trainable params: 0 (0.00 Byte)\n",
            "_________________________________________________________________\n",
            "Epoch 1/10\n",
            "800/800 [==============================] - 1s 672us/step - loss: 0.3760 - accuracy: 0.8361 - val_loss: 0.3934 - val_accuracy: 0.8214\n",
            "Epoch 2/10\n",
            "800/800 [==============================] - 0s 612us/step - loss: 0.3478 - accuracy: 0.8493 - val_loss: 0.3446 - val_accuracy: 0.8489\n",
            "Epoch 3/10\n",
            "800/800 [==============================] - 0s 582us/step - loss: 0.3391 - accuracy: 0.8551 - val_loss: 0.3396 - val_accuracy: 0.8536\n",
            "Epoch 4/10\n",
            "800/800 [==============================] - 0s 560us/step - loss: 0.3335 - accuracy: 0.8556 - val_loss: 0.3496 - val_accuracy: 0.8475\n",
            "Epoch 5/10\n",
            "800/800 [==============================] - 0s 580us/step - loss: 0.3295 - accuracy: 0.8583 - val_loss: 0.3470 - val_accuracy: 0.8514\n",
            "Epoch 6/10\n",
            "800/800 [==============================] - 0s 611us/step - loss: 0.3253 - accuracy: 0.8590 - val_loss: 0.3410 - val_accuracy: 0.8519\n",
            "Epoch 7/10\n",
            "800/800 [==============================] - 0s 594us/step - loss: 0.3201 - accuracy: 0.8621 - val_loss: 0.3438 - val_accuracy: 0.8492\n",
            "Epoch 8/10\n",
            "800/800 [==============================] - 1s 633us/step - loss: 0.3186 - accuracy: 0.8637 - val_loss: 0.3627 - val_accuracy: 0.8438\n",
            "Epoch 9/10\n",
            "800/800 [==============================] - 0s 598us/step - loss: 0.3135 - accuracy: 0.8650 - val_loss: 0.3328 - val_accuracy: 0.8573\n",
            "Epoch 10/10\n",
            "800/800 [==============================] - 1s 634us/step - loss: 0.3113 - accuracy: 0.8677 - val_loss: 0.3407 - val_accuracy: 0.8552\n"
          ]
        }
      ],
      "source": [
        "# Build the neural network model\n",
        "from keras.models import Sequential\n",
        "from keras.layers import Dense\n",
        "\n",
        "model_word2vec = Sequential()\n",
        "model_word2vec.add(Dense(64, activation='relu', input_shape=(vector_size,)))\n",
        "model_word2vec.add(Dense(32, activation='relu'))\n",
        "model_word2vec.add(Dense(1, activation='sigmoid'))\n",
        "\n",
        "model_word2vec.compile(optimizer='adam', loss='binary_crossentropy', metrics=['accuracy'])\n",
        "\n",
        "# Show model summary\n",
        "model_word2vec.summary()\n",
        "\n",
        "# Train the model\n",
        "history_word2vec = model_word2vec.fit(train_vectors, train_labels, epochs=10, validation_split=0.20)\n",
        "\n"
      ]
    },
    {
      "cell_type": "markdown",
      "metadata": {
        "id": "86rLvA85XeoI"
      },
      "source": [
        "Evaluate the model on the test dataset:"
      ]
    },
    {
      "cell_type": "code",
      "execution_count": 300,
      "metadata": {
        "id": "EwANruikXedY"
      },
      "outputs": [
        {
          "name": "stdout",
          "output_type": "stream",
          "text": [
            "313/313 [==============================] - 0s 369us/step - loss: 0.3334 - accuracy: 0.8535\n",
            "Test Loss: 0.3334\n",
            "Test Accuracy: 0.8535\n"
          ]
        }
      ],
      "source": [
        "# Evaluate the Model# Evaluate the model on the test dataset\n",
        "test_loss, test_accuracy = model_word2vec.evaluate(test_vectors, test_labels)\n",
        "print(f\"Test Loss: {test_loss:.4f}\")\n",
        "print(f\"Test Accuracy: {test_accuracy:.4f}\")"
      ]
    },
    {
      "cell_type": "markdown",
      "metadata": {},
      "source": []
    }
  ],
  "metadata": {
    "colab": {
      "provenance": []
    },
    "kernelspec": {
      "display_name": "Python 3",
      "name": "python3"
    },
    "language_info": {
      "codemirror_mode": {
        "name": "ipython",
        "version": 3
      },
      "file_extension": ".py",
      "mimetype": "text/x-python",
      "name": "python",
      "nbconvert_exporter": "python",
      "pygments_lexer": "ipython3",
      "version": "3.11.3"
    }
  },
  "nbformat": 4,
  "nbformat_minor": 0
}
